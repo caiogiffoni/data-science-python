{
  "nbformat": 4,
  "nbformat_minor": 0,
  "metadata": {
    "colab": {
      "provenance": [],
      "mount_file_id": "1hVDAZJZIFfvAgtAlAwnnVk6krNOaymoM",
      "authorship_tag": "ABX9TyOiUa+GH3DKKJ80of5PqFVz",
      "include_colab_link": true
    },
    "kernelspec": {
      "name": "python3",
      "display_name": "Python 3"
    },
    "language_info": {
      "name": "python"
    }
  },
  "cells": [
    {
      "cell_type": "markdown",
      "metadata": {
        "id": "view-in-github",
        "colab_type": "text"
      },
      "source": [
        "<a href=\"https://colab.research.google.com/github/caiogiffoni/data-science-python/blob/main/mod_21.ipynb\" target=\"_parent\"><img src=\"https://colab.research.google.com/assets/colab-badge.svg\" alt=\"Open In Colab\"/></a>"
      ]
    },
    {
      "cell_type": "code",
      "execution_count": 6,
      "metadata": {
        "colab": {
          "base_uri": "https://localhost:8080/"
        },
        "id": "7qZsJWWKlBu3",
        "outputId": "371e50e3-689e-46c4-c51e-11b107ebd0d9"
      },
      "outputs": [
        {
          "output_type": "stream",
          "name": "stdout",
          "text": [
            "/content\n"
          ]
        }
      ],
      "source": [
        "from pathlib import Path\n",
        "\n",
        "print(Path.cwd())"
      ]
    },
    {
      "cell_type": "code",
      "source": [
        "Path('Copy').mkdir()"
      ],
      "metadata": {
        "id": "Qro5gHIamArn"
      },
      "execution_count": 7,
      "outputs": []
    },
    {
      "cell_type": "code",
      "source": [
        "import shutil\n",
        "copiar = Path('/content/drive/MyDrive/data-science/mod 21/Arquivos_Lojas/201801_Amazonas Shopping_AM.csv')\n",
        "colar = Path('/content/Copy/201801_Amazonas Shopping_AM_v222.csv')\n",
        "print(copiar)\n",
        "print(colar)\n",
        "shutil.copy2(copiar, colar)"
      ],
      "metadata": {
        "colab": {
          "base_uri": "https://localhost:8080/"
        },
        "id": "Uxgf9htR6bIk",
        "outputId": "8bd259f9-2aab-4d0f-d2f9-9d471063a572"
      },
      "execution_count": 13,
      "outputs": [
        {
          "output_type": "stream",
          "name": "stdout",
          "text": [
            "/content/drive/MyDrive/data-science/mod 21/Arquivos_Lojas/201801_Amazonas Shopping_AM.csv\n",
            "/content/Copy/201801_Amazonas Shopping_AM_v222.csv\n"
          ]
        },
        {
          "output_type": "execute_result",
          "data": {
            "text/plain": [
              "PosixPath('/content/Copy/201801_Amazonas Shopping_AM_v222.csv')"
            ]
          },
          "metadata": {},
          "execution_count": 13
        }
      ]
    },
    {
      "cell_type": "code",
      "source": [
        "import shutil\n",
        "arquivos_path = Path('/content/drive/MyDrive/data-science/mod 21/Arquivos_Lojas')\n",
        "arquivos = arquivos_path.iterdir()\n",
        "for arquivo in arquivos:\n",
        "  if arquivo [-3:] == 'csv':\n",
        "    estado = arquivo.name[-6:-4]\n",
        "    if Path(f'/content/drive/MyDrive/data-science/mod 21/Arquivos_Lojas/{estado}').exists():\n",
        "\n",
        "      shutil.move(arquivo, Path(f'/content/drive/MyDrive/data-science/mod 21/Arquivos_Lojas/{estado}/{arquivo.name}'))\n",
        "    else:\n",
        "      Path(f'/content/drive/MyDrive/data-science/mod 21/Arquivos_Lojas/{estado}').mkdir()\n",
        "      shutil.move(arquivo, Path(f'/content/drive/MyDrive/data-science/mod 21/Arquivos_Lojas/{estado}/{arquivo.name}'))\n"
      ],
      "metadata": {
        "id": "yANG9jixEt45"
      },
      "execution_count": 67,
      "outputs": []
    }
  ]
}