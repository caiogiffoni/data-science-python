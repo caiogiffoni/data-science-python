{
  "cells": [
    {
      "cell_type": "markdown",
      "metadata": {
        "id": "view-in-github",
        "colab_type": "text"
      },
      "source": [
        "<a href=\"https://colab.research.google.com/github/caiogiffoni/data-science-python/blob/main/Python_com_Email_Caio_Giffoni.ipynb\" target=\"_parent\"><img src=\"https://colab.research.google.com/assets/colab-badge.svg\" alt=\"Open In Colab\"/></a>"
      ]
    },
    {
      "cell_type": "markdown",
      "metadata": {
        "id": "UpdXJbdVZ4NW"
      },
      "source": [
        "# Desafio Python e E-mail\n",
        "\n",
        "### Descrição\n",
        "\n",
        "Digamos que você trabalha em uma indústria e está responsável pela área de inteligência de negócio.\n",
        "\n",
        "Todo dia, você, a equipe ou até mesmo um programa, gera um report diferente para cada área da empresa:\n",
        "- Financeiro\n",
        "- Logística\n",
        "- Manutenção\n",
        "- Marketing\n",
        "- Operações\n",
        "- Produção\n",
        "- Vendas\n",
        "\n",
        "Cada um desses reports deve ser enviado por e-mail para o Gerente de cada Área.\n",
        "\n",
        "Crie um programa que faça isso automaticamente. A relação de Gerentes (com seus respectivos e-mails) e áreas está no arquivo 'Enviar E-mails.xlsx'.\n",
        "\n",
        "Dica: Use o pandas read_excel para ler o arquivo dos e-mails que isso vai facilitar."
      ]
    },
    {
      "cell_type": "code",
      "source": [
        "!pip install yagmail\n",
        "!pip install unidecode"
      ],
      "metadata": {
        "colab": {
          "base_uri": "https://localhost:8080/"
        },
        "id": "mWCJKbz4m-lC",
        "outputId": "01893cf0-5fe9-47f9-b3e0-413ff8895eef"
      },
      "execution_count": 60,
      "outputs": [
        {
          "output_type": "stream",
          "name": "stdout",
          "text": [
            "Looking in indexes: https://pypi.org/simple, https://us-python.pkg.dev/colab-wheels/public/simple/\n",
            "Requirement already satisfied: yagmail in /usr/local/lib/python3.8/dist-packages (0.15.293)\n",
            "Requirement already satisfied: premailer in /usr/local/lib/python3.8/dist-packages (from yagmail) (3.10.0)\n",
            "Requirement already satisfied: cssselect in /usr/local/lib/python3.8/dist-packages (from premailer->yagmail) (1.2.0)\n",
            "Requirement already satisfied: requests in /usr/local/lib/python3.8/dist-packages (from premailer->yagmail) (2.25.1)\n",
            "Requirement already satisfied: cssutils in /usr/local/lib/python3.8/dist-packages (from premailer->yagmail) (2.6.0)\n",
            "Requirement already satisfied: cachetools in /usr/local/lib/python3.8/dist-packages (from premailer->yagmail) (5.2.0)\n",
            "Requirement already satisfied: lxml in /usr/local/lib/python3.8/dist-packages (from premailer->yagmail) (4.9.2)\n",
            "Requirement already satisfied: certifi>=2017.4.17 in /usr/local/lib/python3.8/dist-packages (from requests->premailer->yagmail) (2022.12.7)\n",
            "Requirement already satisfied: urllib3<1.27,>=1.21.1 in /usr/local/lib/python3.8/dist-packages (from requests->premailer->yagmail) (1.24.3)\n",
            "Requirement already satisfied: idna<3,>=2.5 in /usr/local/lib/python3.8/dist-packages (from requests->premailer->yagmail) (2.10)\n",
            "Requirement already satisfied: chardet<5,>=3.0.2 in /usr/local/lib/python3.8/dist-packages (from requests->premailer->yagmail) (4.0.0)\n",
            "Looking in indexes: https://pypi.org/simple, https://us-python.pkg.dev/colab-wheels/public/simple/\n",
            "Collecting unidecode\n",
            "  Downloading Unidecode-1.3.6-py3-none-any.whl (235 kB)\n",
            "\u001b[2K     \u001b[90m━━━━━━━━━━━━━━━━━━━━━━━━━━━━━━━━━━━━━━\u001b[0m \u001b[32m235.9/235.9 KB\u001b[0m \u001b[31m19.3 MB/s\u001b[0m eta \u001b[36m0:00:00\u001b[0m\n",
            "\u001b[?25hInstalling collected packages: unidecode\n",
            "Successfully installed unidecode-1.3.6\n"
          ]
        }
      ]
    },
    {
      "cell_type": "code",
      "execution_count": 98,
      "metadata": {
        "colab": {
          "base_uri": "https://localhost:8080/",
          "height": 300
        },
        "id": "KoEHHfKwZ4Nd",
        "outputId": "9738bc8a-be5d-4c49-b62b-0b77120f2836"
      },
      "outputs": [
        {
          "output_type": "display_data",
          "data": {
            "text/plain": [
              "            Gerente                  E-mail\n",
              "Relatório                                  \n",
              "Vendas         Lira  caio_cgf+1@hotmail.com\n",
              "Producao      Julia  caio_cgf+2@hotmail.com\n",
              "Manutencao     José  caio_cgf+3@hotmail.com\n",
              "Operacoes   Gustavo  caio_cgf+4@hotmail.com\n",
              "Logistica       Ana  caio_cgf+5@hotmail.com\n",
              "Financeiro    Paula  caio_cgf+6@hotmail.com\n",
              "Marketing     Maria  caio_cgf+7@hotmail.com"
            ],
            "text/html": [
              "\n",
              "  <div id=\"df-dc9f1ef6-7c73-4825-a8f4-ada569280476\">\n",
              "    <div class=\"colab-df-container\">\n",
              "      <div>\n",
              "<style scoped>\n",
              "    .dataframe tbody tr th:only-of-type {\n",
              "        vertical-align: middle;\n",
              "    }\n",
              "\n",
              "    .dataframe tbody tr th {\n",
              "        vertical-align: top;\n",
              "    }\n",
              "\n",
              "    .dataframe thead th {\n",
              "        text-align: right;\n",
              "    }\n",
              "</style>\n",
              "<table border=\"1\" class=\"dataframe\">\n",
              "  <thead>\n",
              "    <tr style=\"text-align: right;\">\n",
              "      <th></th>\n",
              "      <th>Gerente</th>\n",
              "      <th>E-mail</th>\n",
              "    </tr>\n",
              "    <tr>\n",
              "      <th>Relatório</th>\n",
              "      <th></th>\n",
              "      <th></th>\n",
              "    </tr>\n",
              "  </thead>\n",
              "  <tbody>\n",
              "    <tr>\n",
              "      <th>Vendas</th>\n",
              "      <td>Lira</td>\n",
              "      <td>caio_cgf+1@hotmail.com</td>\n",
              "    </tr>\n",
              "    <tr>\n",
              "      <th>Producao</th>\n",
              "      <td>Julia</td>\n",
              "      <td>caio_cgf+2@hotmail.com</td>\n",
              "    </tr>\n",
              "    <tr>\n",
              "      <th>Manutencao</th>\n",
              "      <td>José</td>\n",
              "      <td>caio_cgf+3@hotmail.com</td>\n",
              "    </tr>\n",
              "    <tr>\n",
              "      <th>Operacoes</th>\n",
              "      <td>Gustavo</td>\n",
              "      <td>caio_cgf+4@hotmail.com</td>\n",
              "    </tr>\n",
              "    <tr>\n",
              "      <th>Logistica</th>\n",
              "      <td>Ana</td>\n",
              "      <td>caio_cgf+5@hotmail.com</td>\n",
              "    </tr>\n",
              "    <tr>\n",
              "      <th>Financeiro</th>\n",
              "      <td>Paula</td>\n",
              "      <td>caio_cgf+6@hotmail.com</td>\n",
              "    </tr>\n",
              "    <tr>\n",
              "      <th>Marketing</th>\n",
              "      <td>Maria</td>\n",
              "      <td>caio_cgf+7@hotmail.com</td>\n",
              "    </tr>\n",
              "  </tbody>\n",
              "</table>\n",
              "</div>\n",
              "      <button class=\"colab-df-convert\" onclick=\"convertToInteractive('df-dc9f1ef6-7c73-4825-a8f4-ada569280476')\"\n",
              "              title=\"Convert this dataframe to an interactive table.\"\n",
              "              style=\"display:none;\">\n",
              "        \n",
              "  <svg xmlns=\"http://www.w3.org/2000/svg\" height=\"24px\"viewBox=\"0 0 24 24\"\n",
              "       width=\"24px\">\n",
              "    <path d=\"M0 0h24v24H0V0z\" fill=\"none\"/>\n",
              "    <path d=\"M18.56 5.44l.94 2.06.94-2.06 2.06-.94-2.06-.94-.94-2.06-.94 2.06-2.06.94zm-11 1L8.5 8.5l.94-2.06 2.06-.94-2.06-.94L8.5 2.5l-.94 2.06-2.06.94zm10 10l.94 2.06.94-2.06 2.06-.94-2.06-.94-.94-2.06-.94 2.06-2.06.94z\"/><path d=\"M17.41 7.96l-1.37-1.37c-.4-.4-.92-.59-1.43-.59-.52 0-1.04.2-1.43.59L10.3 9.45l-7.72 7.72c-.78.78-.78 2.05 0 2.83L4 21.41c.39.39.9.59 1.41.59.51 0 1.02-.2 1.41-.59l7.78-7.78 2.81-2.81c.8-.78.8-2.07 0-2.86zM5.41 20L4 18.59l7.72-7.72 1.47 1.35L5.41 20z\"/>\n",
              "  </svg>\n",
              "      </button>\n",
              "      \n",
              "  <style>\n",
              "    .colab-df-container {\n",
              "      display:flex;\n",
              "      flex-wrap:wrap;\n",
              "      gap: 12px;\n",
              "    }\n",
              "\n",
              "    .colab-df-convert {\n",
              "      background-color: #E8F0FE;\n",
              "      border: none;\n",
              "      border-radius: 50%;\n",
              "      cursor: pointer;\n",
              "      display: none;\n",
              "      fill: #1967D2;\n",
              "      height: 32px;\n",
              "      padding: 0 0 0 0;\n",
              "      width: 32px;\n",
              "    }\n",
              "\n",
              "    .colab-df-convert:hover {\n",
              "      background-color: #E2EBFA;\n",
              "      box-shadow: 0px 1px 2px rgba(60, 64, 67, 0.3), 0px 1px 3px 1px rgba(60, 64, 67, 0.15);\n",
              "      fill: #174EA6;\n",
              "    }\n",
              "\n",
              "    [theme=dark] .colab-df-convert {\n",
              "      background-color: #3B4455;\n",
              "      fill: #D2E3FC;\n",
              "    }\n",
              "\n",
              "    [theme=dark] .colab-df-convert:hover {\n",
              "      background-color: #434B5C;\n",
              "      box-shadow: 0px 1px 3px 1px rgba(0, 0, 0, 0.15);\n",
              "      filter: drop-shadow(0px 1px 2px rgba(0, 0, 0, 0.3));\n",
              "      fill: #FFFFFF;\n",
              "    }\n",
              "  </style>\n",
              "\n",
              "      <script>\n",
              "        const buttonEl =\n",
              "          document.querySelector('#df-dc9f1ef6-7c73-4825-a8f4-ada569280476 button.colab-df-convert');\n",
              "        buttonEl.style.display =\n",
              "          google.colab.kernel.accessAllowed ? 'block' : 'none';\n",
              "\n",
              "        async function convertToInteractive(key) {\n",
              "          const element = document.querySelector('#df-dc9f1ef6-7c73-4825-a8f4-ada569280476');\n",
              "          const dataTable =\n",
              "            await google.colab.kernel.invokeFunction('convertToInteractive',\n",
              "                                                     [key], {});\n",
              "          if (!dataTable) return;\n",
              "\n",
              "          const docLinkHtml = 'Like what you see? Visit the ' +\n",
              "            '<a target=\"_blank\" href=https://colab.research.google.com/notebooks/data_table.ipynb>data table notebook</a>'\n",
              "            + ' to learn more about interactive tables.';\n",
              "          element.innerHTML = '';\n",
              "          dataTable['output_type'] = 'display_data';\n",
              "          await google.colab.output.renderOutput(dataTable, element);\n",
              "          const docLink = document.createElement('div');\n",
              "          docLink.innerHTML = docLinkHtml;\n",
              "          element.appendChild(docLink);\n",
              "        }\n",
              "      </script>\n",
              "    </div>\n",
              "  </div>\n",
              "  "
            ]
          },
          "metadata": {}
        }
      ],
      "source": [
        "import pandas as pd\n",
        "from pathlib import Path\n",
        "import yagmail\n",
        "import unidecode\n",
        "\n",
        "user = yagmail.SMTP('caioteste9987@gmail.com', password='lvtqdtdanphwjktf') \n",
        "\n",
        "emails = pd.read_excel(r'/content/drive/MyDrive/data-science/mod-22/Enviar E-mails.xlsx')\n",
        "\n",
        "emails['Relatório'] = emails['Relatório'].apply(unidecode.unidecode)\n",
        "\n",
        "emails = emails.set_index('Relatório')\n",
        "display(emails)\n",
        "\n",
        "arquivos = Path('/content/drive/MyDrive/data-science/mod-22/enviar').iterdir()\n",
        "\n",
        "for index, arquivo in enumerate(arquivos):\n",
        "  area = str(arquivo)\n",
        "  area = unidecode.unidecode(area[area.index('enviar')+7:-5])\n",
        "  gerente = emails.loc[area]['Gerente']\n",
        "  email = emails.loc[area]['E-mail']\n",
        "  content = f'''\n",
        "  Caro(a) {gerente},\n",
        "\n",
        "  Segue o relatório referente a sua área\n",
        "\n",
        "  Att, \n",
        "\n",
        "  Diretor.\n",
        "  '''\n",
        "  user.send(to=email, subject=f'Relatório {area}', contents=content, attachments=arquivo)"
      ]
    },
    {
      "cell_type": "code",
      "source": [
        "from google.colab import drive\n",
        "drive.mount('/content/drive')"
      ],
      "metadata": {
        "colab": {
          "base_uri": "https://localhost:8080/"
        },
        "id": "M8W1imw1utMQ",
        "outputId": "05cf4283-f769-4679-c4c1-4767d1a2ef63"
      },
      "execution_count": 1,
      "outputs": [
        {
          "output_type": "stream",
          "name": "stdout",
          "text": [
            "Mounted at /content/drive\n"
          ]
        }
      ]
    },
    {
      "cell_type": "code",
      "source": [],
      "metadata": {
        "id": "_sK0yM47dFyQ"
      },
      "execution_count": null,
      "outputs": []
    }
  ],
  "metadata": {
    "kernelspec": {
      "display_name": "Python 3",
      "language": "python",
      "name": "python3"
    },
    "language_info": {
      "codemirror_mode": {
        "name": "ipython",
        "version": 3
      },
      "file_extension": ".py",
      "mimetype": "text/x-python",
      "name": "python",
      "nbconvert_exporter": "python",
      "pygments_lexer": "ipython3",
      "version": "3.8.3"
    },
    "colab": {
      "provenance": [],
      "include_colab_link": true
    }
  },
  "nbformat": 4,
  "nbformat_minor": 0
}