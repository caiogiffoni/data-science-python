{
  "nbformat": 4,
  "nbformat_minor": 0,
  "metadata": {
    "colab": {
      "provenance": [],
      "authorship_tag": "ABX9TyNfNF0ZCOsdtTz8QHJpuRnu",
      "include_colab_link": true
    },
    "kernelspec": {
      "name": "python3",
      "display_name": "Python 3"
    },
    "language_info": {
      "name": "python"
    }
  },
  "cells": [
    {
      "cell_type": "markdown",
      "metadata": {
        "id": "view-in-github",
        "colab_type": "text"
      },
      "source": [
        "<a href=\"https://colab.research.google.com/github/caiogiffoni/data-science-python/blob/main/mod20.ipynb\" target=\"_parent\"><img src=\"https://colab.research.google.com/assets/colab-badge.svg\" alt=\"Open In Colab\"/></a>"
      ]
    },
    {
      "cell_type": "code",
      "execution_count": 2,
      "metadata": {
        "colab": {
          "base_uri": "https://localhost:8080/"
        },
        "id": "ZP4q5I3K982h",
        "outputId": "962398c0-d4b6-4c34-eb75-af959c573794"
      },
      "outputs": [
        {
          "output_type": "stream",
          "name": "stdout",
          "text": [
            "<_io.TextIOWrapper name='/content/Alunos.txt' mode='r' encoding='UTF-8'>\n"
          ]
        }
      ],
      "source": [
        "with open('/content/Alunos.txt', \"r\") as file:\n",
        "  print(file)"
      ]
    },
    {
      "cell_type": "code",
      "source": [
        "import pandas as pd\n",
        "file = open('/content/Alunos.txt', \"r\")\n",
        "lines = file.readlines()\n",
        "del lines[:4]\n",
        "\n",
        "qtd_anuncio = 0\n",
        "qtd_org = 0\n",
        "qtd_yt_org = 0\n",
        "qtd_igfb_org = 0\n",
        "qtd_site_org = 0\n",
        "\n",
        "for line in lines:\n",
        "  email, origin = line.split(',')\n",
        "  if '_org' in origin:\n",
        "    qtd_org += 1\n",
        "    if '_yt' in origin:\n",
        "      qtd_yt_org += 1\n",
        "    if '_ig_' in origin or '_igfb_org' in origin:\n",
        "      qtd_igfb_org += 1\n",
        "    if '_site' in origin:\n",
        "      qtd_site_org += 1\n",
        "  else:\n",
        "    qtd_anuncio +=1\n",
        "\n",
        "file.close()\n",
        "\n",
        "with open ('Indicadores.txt', 'w') as indicadores:\n",
        "  indicadores.write(f'Quantidade Anuncio: {qtd_anuncio}\\n')\n",
        "  indicadores.write(f'Quantidade Organico: {qtd_org}\\n')\n",
        "  indicadores.write(f'Quantidade Youtube: {qtd_yt_org}\\n')\n",
        "  indicadores.write(f'Quantidade Instagran: {qtd_igfb_org}\\n')\n",
        "  indicadores.write(f'Quantidade Site: {qtd_site_org}\\n')\n",
        "\n",
        "print('fim do codigo')\n"
      ],
      "metadata": {
        "colab": {
          "base_uri": "https://localhost:8080/"
        },
        "id": "467wgAEN_Kw7",
        "outputId": "b4da0830-c8ff-45bd-87c8-5ecc3ec36a20"
      },
      "execution_count": 36,
      "outputs": [
        {
          "output_type": "stream",
          "name": "stdout",
          "text": [
            "fim do codigo\n"
          ]
        }
      ]
    }
  ]
}